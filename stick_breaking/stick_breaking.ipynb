{
 "cells": [
  {
   "cell_type": "markdown",
   "metadata": {},
   "source": [
    "# estimating length of stick after n breaks of length one stick\n",
    "assuming each break is a uniformly random continuous random variable. each subsequent break is done on the stick from 0 to the previous break. \n",
    "\n",
    "Example with three breaks:  \n",
    "- Break 1 on [0,1]: .42\n",
    "- Break 2 on [0,.42]: .11\n",
    "- Break 3 on [0,.11]: .05"
   ]
  },
  {
   "cell_type": "code",
   "execution_count": 1,
   "metadata": {
    "collapsed": true
   },
   "outputs": [],
   "source": [
    "import numpy as np\n",
    "import matplotlib.pyplot as plt\n",
    "import pandas as pd\n",
    "plt.rcParams['figure.figsize'] = 10, 10\n",
    "plt.rcParams['lines.color'] = 'r'\n",
    "plt.rcParams[\"font.size\"] = \"20\""
   ]
  }
 ],
 "metadata": {
  "kernelspec": {
   "display_name": "Python 3",
   "language": "python",
   "name": "python3"
  },
  "language_info": {
   "codemirror_mode": {
    "name": "ipython",
    "version": 3
   },
   "file_extension": ".py",
   "mimetype": "text/x-python",
   "name": "python",
   "nbconvert_exporter": "python",
   "pygments_lexer": "ipython3",
   "version": "3.5.2"
  }
 },
 "nbformat": 4,
 "nbformat_minor": 2
}
